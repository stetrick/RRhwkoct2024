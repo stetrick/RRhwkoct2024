{
  "nbformat": 4,
  "nbformat_minor": 0,
  "metadata": {
    "colab": {
      "provenance": []
    },
    "kernelspec": {
      "name": "python3",
      "display_name": "Python 3"
    },
    "language_info": {
      "name": "python"
    }
  },
  "cells": [
    {
      "cell_type": "code",
      "execution_count": 9,
      "metadata": {
        "colab": {
          "base_uri": "https://localhost:8080/",
          "height": 108
        },
        "id": "sZ53S5vjZijV",
        "outputId": "a18d40df-f97d-4f29-986f-76e5b533a632"
      },
      "outputs": [
        {
          "output_type": "error",
          "ename": "SyntaxError",
          "evalue": "invalid syntax (<ipython-input-9-bec4f07bd924>, line 7)",
          "traceback": [
            "\u001b[0;36m  File \u001b[0;32m\"<ipython-input-9-bec4f07bd924>\"\u001b[0;36m, line \u001b[0;32m7\u001b[0m\n\u001b[0;31m    echo \"# hwkRROct2024\" >> README.md\u001b[0m\n\u001b[0m         ^\u001b[0m\n\u001b[0;31mSyntaxError\u001b[0m\u001b[0;31m:\u001b[0m invalid syntax\n"
          ]
        }
      ],
      "source": [
        "#Date\n",
        "print(\"Oct 27 2024\")\n",
        "import math\n",
        "(math.e)**2\n",
        "#Reflection\n",
        "#In my research, repositories are particularly useful for understanding the type of analysis someone performed on their data. Having all analysis code in one location allows you to a) compare your code with theirs and 2) run their code on your data to confirm that you are getting the same results. Well-commented code also helps you understand the micro-adjustments that someone makes to analyze their data, adjustments that may too subtle to have been mentioned elsewhere. Repositories also allow you to see any updates made to the code while still retaining older copies. This allows you to see how bugs/errors in the script have been repaired and see code improvements (e.g. increase in efficiency, more flexible code with less hard-coded params, etc). Understanding both how the code used to be and what changes have been made to it allow you to better interact with the particular script. In research, data acquisition and analysis is rarely static, but is constantly in flux, and I really like that code repositories reflect this flux in real time. Reproducibility is to some extent about your ability to get into the head of the person that performed the experiment, and repositories, if done well, are one of the best ways to be able to do this.\n"
      ]
    }
  ]
}